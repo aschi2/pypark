{
 "cells": [
  {
   "cell_type": "code",
   "execution_count": 36,
   "metadata": {},
   "outputs": [],
   "source": [
    "import requests\n",
    "from datetime import datetime"
   ]
  },
  {
   "cell_type": "code",
   "execution_count": 76,
   "metadata": {},
   "outputs": [],
   "source": [
    "class disney_park:\n",
    "    def __init__(self):\n",
    "        self.tokendata = self.get_tokendata()\n",
    "        self.token = self.tokendata['access_token']\n",
    "        self.expirtime = self.tokendata['expires_in']\n",
    "        self.parkid = self.getparkid()\n",
    "        self.resortid = self.getresortid()\n",
    "        self.data = self.get_data()\n",
    "    \n",
    "    \n",
    "    def get_tokendata(self):\n",
    "        TOKEN_URL = 'https://authorization.go.com/token?grant_type=assertion&assertion_type=public&client_id=WDPRO-MOBILE.MDX.WDW.ANDROID-PROD'\n",
    "        r = requests.post(url = TOKEN_URL)\n",
    "        data = r.json()\n",
    "        return(data)\n",
    "    \n",
    "    def getparkid(self):\n",
    "        raise(\"Method Must Be Defined By Inherited Class\")\n",
    "\n",
    "        \n",
    "    def getresortid(self):\n",
    "        raise(\"Method Must Be Defined By Inherited Class\")\n",
    "        \n",
    "    def get_data(self):\n",
    "        headers = {\n",
    "        'Accept-Language' : 'en_US',\n",
    "        'User-Agent': 'UIEPlayer/2.1 iPhone OS 6.0.1',\n",
    "        'Accept' : 'application/json;apiversion=1',\n",
    "        'Authorization' : \"BEARER \"+str(self.token),\n",
    "        'X-Conversation-Id' : 'WDPRO-MOBILE.MDX.CLIENT-PROD',\n",
    "        'X-Correlation-ID' : str(datetime.now().timestamp())\n",
    "\n",
    "        }\n",
    "        r = requests.get(url = 'https://api.wdpro.disney.go.com/facility-service/theme-parks/{}/wait-times'.format(self.parkid),headers=headers)\n",
    "        data = r.json()\n",
    "        return(data)\n",
    "\n",
    "\n",
    "\n"
   ]
  },
  {
   "cell_type": "code",
   "execution_count": 78,
   "metadata": {},
   "outputs": [],
   "source": [
    "class Disneyland(disney_park):\n",
    "    def __init__(self):\n",
    "        super().__init__()\n",
    "        \n",
    "    def getparkid(self):\n",
    "        return(330339)\n",
    "\n",
    "        \n",
    "    def getresortid(self):\n",
    "        return(80008297)\n",
    "    \n",
    "    "
   ]
  }
 ],
 "metadata": {
  "kernelspec": {
   "display_name": "Python 3",
   "language": "python",
   "name": "python3"
  },
  "language_info": {
   "codemirror_mode": {
    "name": "ipython",
    "version": 3
   },
   "file_extension": ".py",
   "mimetype": "text/x-python",
   "name": "python",
   "nbconvert_exporter": "python",
   "pygments_lexer": "ipython3",
   "version": "3.6.6"
  }
 },
 "nbformat": 4,
 "nbformat_minor": 2
}
